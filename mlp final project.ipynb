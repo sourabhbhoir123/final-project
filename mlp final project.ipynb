{
 "cells": [
  {
   "cell_type": "markdown",
   "metadata": {},
   "source": [
    "#### Template Notebook:\n",
    "* Please change this notebook name as \"Lastname_Firstname_FinalExam.ipynb\"\n",
    "* You can add/delete/modify the cells accordingly\n",
    "* Please make sure your print your outputs in each question\n",
    "* Try to attempt all the questions for partial credits"
   ]
  },
  {
   "cell_type": "markdown",
   "metadata": {},
   "source": [
    "####  Libraries"
   ]
  },
  {
   "cell_type": "code",
   "execution_count": 108,
   "metadata": {},
   "outputs": [],
   "source": [
    "import pandas as pd\n",
    "import numpy as np\n",
    "from sklearn.datasets import load_iris"
   ]
  },
  {
   "cell_type": "markdown",
   "metadata": {},
   "source": [
    "#### Question  1: Increasing Training Set Size Experiment "
   ]
  },
  {
   "cell_type": "code",
   "execution_count": 109,
   "metadata": {},
   "outputs": [],
   "source": [
    "import matplotlib.pyplot as plt\n",
    "from sklearn.model_selection import train_test_split\n",
    "from sklearn import datasets\n",
    "from sklearn.linear_model import LogisticRegression\n",
    "from sklearn.tree import DecisionTreeClassifier\n",
    "from sklearn.ensemble import RandomForestClassifier\n",
    "from sklearn.naive_bayes import GaussianNB\n",
    "from sklearn.metrics import accuracy_score, f1_score\n",
    "\n",
    "import warnings\n",
    "warnings.filterwarnings('ignore')"
   ]
  },
  {
   "cell_type": "code",
   "execution_count": 110,
   "metadata": {},
   "outputs": [],
   "source": [
    "# Load iris dataset\n",
    "iris = datasets.load_iris()"
   ]
  },
  {
   "cell_type": "code",
   "execution_count": 111,
   "metadata": {},
   "outputs": [],
   "source": [
    "iris_data = pd.DataFrame(data=iris.data, columns=iris.feature_names)"
   ]
  },
  {
   "cell_type": "code",
   "execution_count": 112,
   "metadata": {},
   "outputs": [
    {
     "data": {
      "text/plain": [
       "(150, 4)"
      ]
     },
     "execution_count": 112,
     "metadata": {},
     "output_type": "execute_result"
    }
   ],
   "source": [
    "iris_data.shape"
   ]
  },
  {
   "cell_type": "code",
   "execution_count": 113,
   "metadata": {},
   "outputs": [
    {
     "name": "stdout",
     "output_type": "stream",
     "text": [
      "Index(['sepal length (cm)', 'sepal width (cm)', 'petal length (cm)',\n",
      "       'petal width (cm)'],\n",
      "      dtype='object')\n"
     ]
    }
   ],
   "source": [
    "print(iris_data.columns)"
   ]
  },
  {
   "cell_type": "code",
   "execution_count": 114,
   "metadata": {},
   "outputs": [],
   "source": [
    "X = iris.data\n",
    "y = iris.target"
   ]
  },
  {
   "cell_type": "markdown",
   "metadata": {},
   "source": [
    "### Divide the data into 80% training and 20% testing."
   ]
  },
  {
   "cell_type": "code",
   "execution_count": 115,
   "metadata": {},
   "outputs": [],
   "source": [
    "X_train, X_test, y_train, y_test = train_test_split(X, y, test_size=0.20, random_state=42)"
   ]
  },
  {
   "cell_type": "markdown",
   "metadata": {},
   "source": [
    "### From the training set only take 5% of the data and train the supervised learning models (Logistic Regression, Decision Trees, Random Forest, and Naive Bayes) and test it on the test set created in the previous step."
   ]
  },
  {
   "cell_type": "code",
   "execution_count": 116,
   "metadata": {},
   "outputs": [
    {
     "name": "stdout",
     "output_type": "stream",
     "text": [
      "Logistic Regression : Accuracy =  0.7333333333333333\n",
      "Naive Bayes : Accuracy =  0.3333333333333333\n",
      "Decision Tree : Accuracy =  1.0\n",
      "Random Forest : Accuracy =  0.7\n"
     ]
    }
   ],
   "source": [
    "models = {\n",
    "    \"Logistic Regression\": LogisticRegression(),\n",
    "    \"Naive Bayes\": GaussianNB(),\n",
    "    \"Decision Tree\": DecisionTreeClassifier(),\n",
    "    \"Random Forest\": RandomForestClassifier(),\n",
    "}\n",
    "\n",
    "reduced_size = int(0.05 * len(X_train))\n",
    "X_train_1 = X_train[:reduced_size]\n",
    "y_train_1 = y_train[:reduced_size]\n",
    "\n",
    "for name, model in models.items():\n",
    "    model.fit(X_train_1, y_train_1)\n",
    "    \n",
    "results = {}\n",
    "    \n",
    "for name, model in models.items():\n",
    "    y_pred = model.predict(X_test)\n",
    "    accuracy = accuracy_score(y_test, y_pred)\n",
    "    results[name] = accuracy\n",
    "\n",
    "\n",
    "for name, accuracy in results.items():\n",
    "    print(name,\": Accuracy = \", accuracy)"
   ]
  },
  {
   "cell_type": "markdown",
   "metadata": {},
   "source": [
    "### Repeat the training again with adding 5% training data every time until you use the whole training set."
   ]
  },
  {
   "cell_type": "code",
   "execution_count": 117,
   "metadata": {},
   "outputs": [],
   "source": [
    "for split in range(5, 101, 5):\n",
    "    X_train_2 = X_train[:int(len(X_train) * split / 100)]\n",
    "    y_train_2 = y_train[:int(len(y_train) * split / 100)]\n",
    "    \n",
    "    for name, model in models.items():\n",
    "        model.fit(X_train_2, y_train_2)"
   ]
  },
  {
   "cell_type": "markdown",
   "metadata": {},
   "source": [
    "### In every training, test your models on the 20% of the test set and store the accuracy and f1-score of the model."
   ]
  },
  {
   "cell_type": "code",
   "execution_count": 118,
   "metadata": {},
   "outputs": [
    {
     "name": "stdout",
     "output_type": "stream",
     "text": [
      "Training data size -  5\n",
      "Logistic Regression \n",
      "Accuracy -  0.6666666666666666 \n",
      "f1 score -  0.6666666666666666\n",
      "\n",
      "\n",
      "Naive Bayes \n",
      "Accuracy -  0.3333333333333333 \n",
      "f1 score -  0.16666666666666666\n",
      "\n",
      "\n",
      "Decision Tree \n",
      "Accuracy -  0.8333333333333334 \n",
      "f1 score -  0.8444444444444446\n",
      "\n",
      "\n",
      "Random Forest \n",
      "Accuracy -  0.6666666666666666 \n",
      "f1 score -  0.6666666666666666\n",
      "\n",
      "\n",
      "----------------------------------\n",
      "Training data size -  10\n",
      "Logistic Regression \n",
      "Accuracy -  0.8333333333333334 \n",
      "f1 score -  0.7619047619047619\n",
      "\n",
      "\n",
      "Naive Bayes \n",
      "Accuracy -  0.8333333333333334 \n",
      "f1 score -  0.7666666666666666\n",
      "\n",
      "\n",
      "Decision Tree \n",
      "Accuracy -  0.8333333333333334 \n",
      "f1 score -  0.8444444444444446\n",
      "\n",
      "\n",
      "Random Forest \n",
      "Accuracy -  0.8333333333333334 \n",
      "f1 score -  0.8444444444444446\n",
      "\n",
      "\n",
      "----------------------------------\n",
      "Training data size -  15\n",
      "Logistic Regression \n",
      "Accuracy -  1.0 \n",
      "f1 score -  1.0\n",
      "\n",
      "\n",
      "Naive Bayes \n",
      "Accuracy -  0.8333333333333334 \n",
      "f1 score -  0.7619047619047619\n",
      "\n",
      "\n",
      "Decision Tree \n",
      "Accuracy -  1.0 \n",
      "f1 score -  1.0\n",
      "\n",
      "\n",
      "Random Forest \n",
      "Accuracy -  1.0 \n",
      "f1 score -  1.0\n",
      "\n",
      "\n",
      "----------------------------------\n",
      "Training data size -  20\n",
      "Logistic Regression \n",
      "Accuracy -  1.0 \n",
      "f1 score -  1.0\n",
      "\n",
      "\n",
      "Naive Bayes \n",
      "Accuracy -  1.0 \n",
      "f1 score -  1.0\n",
      "\n",
      "\n",
      "Decision Tree \n",
      "Accuracy -  1.0 \n",
      "f1 score -  1.0\n",
      "\n",
      "\n",
      "Random Forest \n",
      "Accuracy -  1.0 \n",
      "f1 score -  1.0\n",
      "\n",
      "\n",
      "----------------------------------\n",
      "Training data size -  25\n",
      "Logistic Regression \n",
      "Accuracy -  1.0 \n",
      "f1 score -  1.0\n",
      "\n",
      "\n",
      "Naive Bayes \n",
      "Accuracy -  1.0 \n",
      "f1 score -  1.0\n",
      "\n",
      "\n",
      "Decision Tree \n",
      "Accuracy -  1.0 \n",
      "f1 score -  1.0\n",
      "\n",
      "\n",
      "Random Forest \n",
      "Accuracy -  1.0 \n",
      "f1 score -  1.0\n",
      "\n",
      "\n",
      "----------------------------------\n",
      "Training data size -  30\n",
      "Logistic Regression \n",
      "Accuracy -  1.0 \n",
      "f1 score -  1.0\n",
      "\n",
      "\n",
      "Naive Bayes \n",
      "Accuracy -  1.0 \n",
      "f1 score -  1.0\n",
      "\n",
      "\n",
      "Decision Tree \n",
      "Accuracy -  0.8333333333333334 \n",
      "f1 score -  0.8444444444444446\n",
      "\n",
      "\n",
      "Random Forest \n",
      "Accuracy -  1.0 \n",
      "f1 score -  1.0\n",
      "\n",
      "\n",
      "----------------------------------\n",
      "Training data size -  35\n",
      "Logistic Regression \n",
      "Accuracy -  1.0 \n",
      "f1 score -  1.0\n",
      "\n",
      "\n",
      "Naive Bayes \n",
      "Accuracy -  1.0 \n",
      "f1 score -  1.0\n",
      "\n",
      "\n",
      "Decision Tree \n",
      "Accuracy -  0.8333333333333334 \n",
      "f1 score -  0.8444444444444446\n",
      "\n",
      "\n",
      "Random Forest \n",
      "Accuracy -  0.8333333333333334 \n",
      "f1 score -  0.8444444444444446\n",
      "\n",
      "\n",
      "----------------------------------\n",
      "Training data size -  40\n",
      "Logistic Regression \n",
      "Accuracy -  1.0 \n",
      "f1 score -  1.0\n",
      "\n",
      "\n",
      "Naive Bayes \n",
      "Accuracy -  1.0 \n",
      "f1 score -  1.0\n",
      "\n",
      "\n",
      "Decision Tree \n",
      "Accuracy -  0.8333333333333334 \n",
      "f1 score -  0.8444444444444446\n",
      "\n",
      "\n",
      "Random Forest \n",
      "Accuracy -  0.8333333333333334 \n",
      "f1 score -  0.8444444444444446\n",
      "\n",
      "\n",
      "----------------------------------\n",
      "Training data size -  45\n",
      "Logistic Regression \n",
      "Accuracy -  1.0 \n",
      "f1 score -  1.0\n",
      "\n",
      "\n",
      "Naive Bayes \n",
      "Accuracy -  1.0 \n",
      "f1 score -  1.0\n",
      "\n",
      "\n",
      "Decision Tree \n",
      "Accuracy -  0.8333333333333334 \n",
      "f1 score -  0.8444444444444446\n",
      "\n",
      "\n",
      "Random Forest \n",
      "Accuracy -  0.8333333333333334 \n",
      "f1 score -  0.8444444444444446\n",
      "\n",
      "\n",
      "----------------------------------\n",
      "Training data size -  50\n",
      "Logistic Regression \n",
      "Accuracy -  1.0 \n",
      "f1 score -  1.0\n",
      "\n",
      "\n",
      "Naive Bayes \n",
      "Accuracy -  1.0 \n",
      "f1 score -  1.0\n",
      "\n",
      "\n",
      "Decision Tree \n",
      "Accuracy -  0.8333333333333334 \n",
      "f1 score -  0.8444444444444446\n",
      "\n",
      "\n",
      "Random Forest \n",
      "Accuracy -  1.0 \n",
      "f1 score -  1.0\n",
      "\n",
      "\n",
      "----------------------------------\n",
      "Training data size -  55\n",
      "Logistic Regression \n",
      "Accuracy -  1.0 \n",
      "f1 score -  1.0\n",
      "\n",
      "\n",
      "Naive Bayes \n",
      "Accuracy -  1.0 \n",
      "f1 score -  1.0\n",
      "\n",
      "\n",
      "Decision Tree \n",
      "Accuracy -  1.0 \n",
      "f1 score -  1.0\n",
      "\n",
      "\n",
      "Random Forest \n",
      "Accuracy -  1.0 \n",
      "f1 score -  1.0\n",
      "\n",
      "\n",
      "----------------------------------\n",
      "Training data size -  60\n",
      "Logistic Regression \n",
      "Accuracy -  1.0 \n",
      "f1 score -  1.0\n",
      "\n",
      "\n",
      "Naive Bayes \n",
      "Accuracy -  1.0 \n",
      "f1 score -  1.0\n",
      "\n",
      "\n",
      "Decision Tree \n",
      "Accuracy -  0.8333333333333334 \n",
      "f1 score -  0.8444444444444446\n",
      "\n",
      "\n",
      "Random Forest \n",
      "Accuracy -  1.0 \n",
      "f1 score -  1.0\n",
      "\n",
      "\n",
      "----------------------------------\n",
      "Training data size -  65\n",
      "Logistic Regression \n",
      "Accuracy -  1.0 \n",
      "f1 score -  1.0\n",
      "\n",
      "\n",
      "Naive Bayes \n",
      "Accuracy -  1.0 \n",
      "f1 score -  1.0\n",
      "\n",
      "\n",
      "Decision Tree \n",
      "Accuracy -  1.0 \n",
      "f1 score -  1.0\n",
      "\n",
      "\n",
      "Random Forest \n",
      "Accuracy -  1.0 \n",
      "f1 score -  1.0\n",
      "\n",
      "\n",
      "----------------------------------\n",
      "Training data size -  70\n",
      "Logistic Regression \n",
      "Accuracy -  1.0 \n",
      "f1 score -  1.0\n",
      "\n",
      "\n",
      "Naive Bayes \n",
      "Accuracy -  1.0 \n",
      "f1 score -  1.0\n",
      "\n",
      "\n",
      "Decision Tree \n",
      "Accuracy -  1.0 \n",
      "f1 score -  1.0\n",
      "\n",
      "\n",
      "Random Forest \n",
      "Accuracy -  1.0 \n",
      "f1 score -  1.0\n",
      "\n",
      "\n",
      "----------------------------------\n",
      "Training data size -  75\n",
      "Logistic Regression \n",
      "Accuracy -  1.0 \n",
      "f1 score -  1.0\n",
      "\n",
      "\n",
      "Naive Bayes \n",
      "Accuracy -  1.0 \n",
      "f1 score -  1.0\n",
      "\n",
      "\n",
      "Decision Tree \n",
      "Accuracy -  1.0 \n",
      "f1 score -  1.0\n",
      "\n",
      "\n",
      "Random Forest \n",
      "Accuracy -  1.0 \n",
      "f1 score -  1.0\n",
      "\n",
      "\n",
      "----------------------------------\n",
      "Training data size -  80\n",
      "Logistic Regression \n",
      "Accuracy -  1.0 \n",
      "f1 score -  1.0\n",
      "\n",
      "\n",
      "Naive Bayes \n",
      "Accuracy -  1.0 \n",
      "f1 score -  1.0\n",
      "\n",
      "\n",
      "Decision Tree \n",
      "Accuracy -  1.0 \n",
      "f1 score -  1.0\n",
      "\n",
      "\n",
      "Random Forest \n",
      "Accuracy -  1.0 \n",
      "f1 score -  1.0\n",
      "\n",
      "\n",
      "----------------------------------\n",
      "Training data size -  85\n",
      "Logistic Regression \n",
      "Accuracy -  1.0 \n",
      "f1 score -  1.0\n",
      "\n",
      "\n",
      "Naive Bayes \n",
      "Accuracy -  1.0 \n",
      "f1 score -  1.0\n",
      "\n",
      "\n",
      "Decision Tree \n",
      "Accuracy -  1.0 \n",
      "f1 score -  1.0\n",
      "\n",
      "\n",
      "Random Forest \n",
      "Accuracy -  1.0 \n",
      "f1 score -  1.0\n",
      "\n",
      "\n",
      "----------------------------------\n",
      "Training data size -  90\n",
      "Logistic Regression \n",
      "Accuracy -  1.0 \n",
      "f1 score -  1.0\n",
      "\n",
      "\n",
      "Naive Bayes \n",
      "Accuracy -  1.0 \n",
      "f1 score -  1.0\n",
      "\n",
      "\n",
      "Decision Tree \n",
      "Accuracy -  1.0 \n",
      "f1 score -  1.0\n",
      "\n",
      "\n",
      "Random Forest \n",
      "Accuracy -  1.0 \n",
      "f1 score -  1.0\n",
      "\n",
      "\n",
      "----------------------------------\n",
      "Training data size -  95\n",
      "Logistic Regression \n",
      "Accuracy -  1.0 \n",
      "f1 score -  1.0\n",
      "\n",
      "\n",
      "Naive Bayes \n",
      "Accuracy -  1.0 \n",
      "f1 score -  1.0\n",
      "\n",
      "\n",
      "Decision Tree \n",
      "Accuracy -  1.0 \n",
      "f1 score -  1.0\n",
      "\n",
      "\n",
      "Random Forest \n",
      "Accuracy -  1.0 \n",
      "f1 score -  1.0\n",
      "\n",
      "\n",
      "----------------------------------\n",
      "Training data size -  100\n",
      "Logistic Regression \n",
      "Accuracy -  1.0 \n",
      "f1 score -  1.0\n",
      "\n",
      "\n",
      "Naive Bayes \n",
      "Accuracy -  1.0 \n",
      "f1 score -  1.0\n",
      "\n",
      "\n",
      "Decision Tree \n",
      "Accuracy -  1.0 \n",
      "f1 score -  1.0\n",
      "\n",
      "\n",
      "Random Forest \n",
      "Accuracy -  1.0 \n",
      "f1 score -  1.0\n",
      "\n",
      "\n",
      "----------------------------------\n"
     ]
    }
   ],
   "source": [
    "metrics = {name: {\"accuracy\": [], \"f1_score\": []} for name in models}\n",
    "\n",
    "test_20 = int(0.2 * len(X_test))\n",
    "X_test_3 = X_test[:test_20]\n",
    "y_test_3 = y_test[:test_20]\n",
    "\n",
    "for split in range(5, 101, 5):\n",
    "    print(\"Training data size - \", split)\n",
    "    X_train_2 = X_train[:int(len(X_train) * split / 100)]\n",
    "    y_train_2 = y_train[:int(len(y_train) * split / 100)]\n",
    "    \n",
    "    for name, model in models.items():\n",
    "        model.fit(X_train_2, y_train_2)\n",
    "        \n",
    "        y_pred = model.predict(X_test_3)\n",
    "        accuracy = accuracy_score(y_test_3, y_pred)\n",
    "        f1 = f1_score(y_test_3, y_pred, average='weighted')\n",
    "        print(name,\"\\nAccuracy - \",accuracy, \"\\nf1 score - \", f1)\n",
    "        print(\"\\n\")\n",
    "        metrics[name][\"accuracy\"].append(accuracy)\n",
    "        metrics[name][\"f1_score\"].append(f1)\n",
    "    print(\"----------------------------------\")\n",
    "        \n",
    "        "
   ]
  },
  {
   "cell_type": "markdown",
   "metadata": {},
   "source": [
    "### Plot the sample graph for accuracy and f1-score as provided below### "
   ]
  },
  {
   "cell_type": "code",
   "execution_count": 119,
   "metadata": {},
   "outputs": [
    {
     "data": {
      "image/png": "[encoded data removed]",
      "text/plain": [
       "<Figure size 800x600 with 1 Axes>"
      ]
     },
     "metadata": {},
     "output_type": "display_data"
    },
    {
     "data": {
      "image/png": "[encoded data removed]",
      "text/plain": [
       "<Figure size 800x600 with 1 Axes>"
      ]
     },
     "metadata": {},
     "output_type": "display_data"
    }
   ],
   "source": [
    "plt.figure(figsize=(8, 6))\n",
    "for name, scores in metrics.items():\n",
    "    plt.plot(range(5, 101, 5), scores[\"accuracy\"],label=name)\n",
    "plt.title('Model Accuracy')\n",
    "plt.xlabel('Training Data Size (%)')\n",
    "plt.ylabel('Accuracy')\n",
    "plt.legend()\n",
    "plt.grid(True)\n",
    "plt.show()\n",
    "\n",
    "plt.figure(figsize=(8, 6))\n",
    "for name, scores in metrics.items():\n",
    "    plt.plot(range(5, 101, 5), scores[\"f1_score\"],  label=name)\n",
    "plt.title('Model F1-score')\n",
    "plt.xlabel('Training Data Size (%)')\n",
    "plt.ylabel('F1-score')\n",
    "plt.legend()\n",
    "plt.grid(True)\n",
    "plt.show()"
   ]
  },
  {
   "cell_type": "markdown",
   "metadata": {},
   "source": [
    "#### Question 2: Binary Classification with Discriminant"
   ]
  },
  {
   "cell_type": "code",
   "execution_count": 120,
   "metadata": {},
   "outputs": [
    {
     "data": {
      "text/plain": [
       "(15, 15)"
      ]
     },
     "execution_count": 120,
     "metadata": {},
     "output_type": "execute_result"
    }
   ],
   "source": [
    "X = np.array([5, 1, 9, 6, 5, 6, 1, 9, 10, 11, 8, 7, 13, 8, 19])\n",
    "Y = np.array([14, 16, 17, 10, 9, 17, 15, 3, 3, 1, 4, 5, 1, 3, 15])\n",
    "len(X), len(Y)"
   ]
  },
  {
   "cell_type": "code",
   "execution_count": 121,
   "metadata": {},
   "outputs": [],
   "source": [
    "C = np.array(['c1', 'c1', 'c1', 'c1', 'c1', 'c1', 'c1', 'c2', 'c2', 'c2', 'c2', 'c2', 'c2', 'c2', 'c2'])"
   ]
  },
  {
   "cell_type": "code",
   "execution_count": 122,
   "metadata": {},
   "outputs": [],
   "source": [
    "# Discriminant function\n",
    "def discriminant_function(x, y):\n",
    "    return -x + 2 * y + x * y"
   ]
  },
  {
   "cell_type": "code",
   "execution_count": 123,
   "metadata": {},
   "outputs": [],
   "source": [
    "# Predicted labels based on the discriminant function\n",
    "predicted_labels = np.where(discriminant_function(X, Y) >= 35, 'c1', 'c2')"
   ]
  },
  {
   "cell_type": "code",
   "execution_count": 124,
   "metadata": {},
   "outputs": [],
   "source": [
    "# Calculate accuracy and number of misclassified points for each class\n",
    "misclassified_c1 = np.sum((C == 'c1') & (predicted_labels != 'c1'))\n",
    "misclassified_c2 = np.sum((C == 'c2') & (predicted_labels != 'c2'))"
   ]
  },
  {
   "cell_type": "code",
   "execution_count": 125,
   "metadata": {},
   "outputs": [],
   "source": [
    "accuracy_c1 = 1 - misclassified_c1 / np.sum(C == 'c1')\n",
    "accuracy_c2 = 1 - misclassified_c2 / np.sum(C == 'c2')"
   ]
  },
  {
   "cell_type": "code",
   "execution_count": 126,
   "metadata": {},
   "outputs": [
    {
     "name": "stdout",
     "output_type": "stream",
     "text": [
      "Number of misclassified in c1: 0\n",
      "Number of misclassified in c2: 2\n",
      "Accuracy for c1: 1.0\n",
      "Accuracy for c2: 0.75\n"
     ]
    }
   ],
   "source": [
    "print(\"Number of misclassified in c1:\", misclassified_c1)\n",
    "print(\"Number of misclassified in c2:\", misclassified_c2)\n",
    "print(\"Accuracy for c1:\", accuracy_c1)\n",
    "print(\"Accuracy for c2:\", accuracy_c2)"
   ]
  },
  {
   "cell_type": "markdown",
   "metadata": {},
   "source": [
    "#### Question 3: K-Means Clustering"
   ]
  },
  {
   "cell_type": "code",
   "execution_count": 127,
   "metadata": {},
   "outputs": [],
   "source": [
    "data_dict = {(2.0, 3.43, 4.37):2, (2.49, 4.28, 4.83):2, (2.58, 4.36, 4.48):2, (2.66, 4.45, 5.95):2, \n",
    "(2.82, 3.66, 4.51): 2, (3.03, 4.37, 5.07): 2, (3.27, 4.54, 4.57): 2, (3.41, 3.94, 5.35): 2, \n",
    "(3.53, 4.32, 5.41): 2, (3.53, 4.6, 6.8): 1, (3.61, 4.25, 5.21): 1, (3.61, 4.78, 5.47): 1, \n",
    "(3.72, 5.44, 5.88): 1, (3.87, 4.96, 4.52): 2, (4.13, 5.29, 6.6): 1, (4.25, 5.97, 5.48): 1, \n",
    "(4.61, 4.9, 5.11): 1, (4.73, 4.4, 6.78): 1, (4.97, 4.25, 5.0): 1, (4.98, 5.27, 6.79): 1, \n",
    "(5.08, 3.51, 4.69): 3, (5.15, 3.58, 4.2): 3, (5.67, 2.27, 4.65): 3, (5.67, 3.81, 5.75): 3, \n",
    "(5.94, 2.34, 4.12): 3, (6.06, 3.16, 4.36): 3, (6.09, 3.19, 4.02): 3, (6.43, 3.42, 4.18): 3, \n",
    "(6.56, 2.7, 4.03): 3, (6.79, 3.46, 4.81): 3}"
   ]
  },
  {
   "cell_type": "code",
   "execution_count": 128,
   "metadata": {},
   "outputs": [
    {
     "name": "stdout",
     "output_type": "stream",
     "text": [
      "(2.0, 3.43, 4.37) 2\n",
      "(2.49, 4.28, 4.83) 2\n",
      "(2.58, 4.36, 4.48) 2\n",
      "(2.66, 4.45, 5.95) 2\n",
      "(2.82, 3.66, 4.51) 2\n",
      "(3.03, 4.37, 5.07) 2\n",
      "(3.27, 4.54, 4.57) 2\n",
      "(3.41, 3.94, 5.35) 2\n",
      "(3.53, 4.32, 5.41) 2\n",
      "(3.53, 4.6, 6.8) 1\n",
      "(3.61, 4.25, 5.21) 1\n",
      "(3.61, 4.78, 5.47) 1\n",
      "(3.72, 5.44, 5.88) 1\n",
      "(3.87, 4.96, 4.52) 2\n",
      "(4.13, 5.29, 6.6) 1\n",
      "(4.25, 5.97, 5.48) 1\n",
      "(4.61, 4.9, 5.11) 1\n",
      "(4.73, 4.4, 6.78) 1\n",
      "(4.97, 4.25, 5.0) 1\n",
      "(4.98, 5.27, 6.79) 1\n",
      "(5.08, 3.51, 4.69) 3\n",
      "(5.15, 3.58, 4.2) 3\n",
      "(5.67, 2.27, 4.65) 3\n",
      "(5.67, 3.81, 5.75) 3\n",
      "(5.94, 2.34, 4.12) 3\n",
      "(6.06, 3.16, 4.36) 3\n",
      "(6.09, 3.19, 4.02) 3\n",
      "(6.43, 3.42, 4.18) 3\n",
      "(6.56, 2.7, 4.03) 3\n",
      "(6.79, 3.46, 4.81) 3\n"
     ]
    }
   ],
   "source": [
    "for key, value in data_dict.items():\n",
    "    print(key,value)"
   ]
  },
  {
   "cell_type": "code",
   "execution_count": 129,
   "metadata": {},
   "outputs": [],
   "source": [
    "from sklearn.cluster import KMeans\n",
    "from scipy.spatial import distance"
   ]
  },
  {
   "cell_type": "code",
   "execution_count": 130,
   "metadata": {},
   "outputs": [],
   "source": [
    "center_dict = {(3,4,5):1, (4,5,6):2, (6,3,5):3}\n",
    "\n",
    "p_values = [1, 2, 3]"
   ]
  },
  {
   "cell_type": "code",
   "execution_count": 131,
   "metadata": {},
   "outputs": [
    {
     "name": "stdout",
     "output_type": "stream",
     "text": [
      "p: 1  -> Number of Correctly Classified Instances =  10\n",
      "p: 2  -> Number of Correctly Classified Instances =  10\n",
      "p: 3  -> Number of Correctly Classified Instances =  10\n"
     ]
    }
   ],
   "source": [
    "data_points = list(data_dict.keys())\n",
    "true_labels = list(data_dict.values())\n",
    "\n",
    "for p in p_values:\n",
    "    kmeans = KMeans(n_clusters=len(center_dict), init=np.array(list(center_dict.keys())), n_init=1, random_state=0)\n",
    "    kmeans.fit(data_points)\n",
    "    cluster_centers = kmeans.cluster_centers_\n",
    "\n",
    "    correct_classifications = 0\n",
    "\n",
    "    for i, point in enumerate(data_points):\n",
    "        min_dist = float('inf')\n",
    "        predicted_label = None\n",
    "\n",
    "        for center, true_label in center_dict.items():\n",
    "            dist = distance.minkowski(point, center, p)\n",
    "            if dist < min_dist:\n",
    "                min_distance = dist\n",
    "                predicted_label = true_label\n",
    "\n",
    "        if predicted_label == true_labels[i]:\n",
    "            correct_classifications += 1\n",
    "\n",
    "    print(\"p:\",p,\" -> Number of Correctly Classified Instances = \",correct_classifications)\n"
   ]
  }
 ],
 "metadata": {
  "kernelspec": {
   "display_name": "Python 3 (ipykernel)",
   "language": "python",
   "name": "python3"
  },
  "language_info": {
   "codemirror_mode": {
    "name": "ipython",
    "version": 3
   },
   "file_extension": ".py",
   "mimetype": "text/x-python",
   "name": "python",
   "nbconvert_exporter": "python",
   "pygments_lexer": "ipython3",
   "version": "3.11.5"
  }
 },
 "nbformat": 4,
 "nbformat_minor": 2
}
